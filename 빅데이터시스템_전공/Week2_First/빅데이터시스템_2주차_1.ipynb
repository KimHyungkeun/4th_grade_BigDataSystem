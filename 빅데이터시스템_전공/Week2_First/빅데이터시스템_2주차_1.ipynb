{
 "cells": [
  {
   "cell_type": "code",
   "execution_count": 2,
   "metadata": {},
   "outputs": [
    {
     "data": {
      "text/plain": [
       "array([0.35294118, 0.38888889, 0.38235294])"
      ]
     },
     "execution_count": 2,
     "metadata": {},
     "output_type": "execute_result"
    }
   ],
   "source": [
    "import numpy as np\n",
    "height = [170,180,170]\n",
    "weight = [60,70,65]\n",
    "\n",
    "np_height = np.array(height)\n",
    "np_weight = np.array(weight)\n",
    "np_weight / np_height"
   ]
  },
  {
   "cell_type": "code",
   "execution_count": 3,
   "metadata": {},
   "outputs": [
    {
     "name": "stdout",
     "output_type": "stream",
     "text": [
      "<class 'numpy.ndarray'>\n"
     ]
    }
   ],
   "source": [
    "print(type(np_weight))"
   ]
  },
  {
   "cell_type": "code",
   "execution_count": 4,
   "metadata": {},
   "outputs": [
    {
     "data": {
      "text/plain": [
       "array([1, 3, 4, 5])"
      ]
     },
     "execution_count": 4,
     "metadata": {},
     "output_type": "execute_result"
    }
   ],
   "source": [
    "np.array([1,3,4,5])"
   ]
  },
  {
   "cell_type": "code",
   "execution_count": 5,
   "metadata": {},
   "outputs": [
    {
     "name": "stdout",
     "output_type": "stream",
     "text": [
      "[[  1   2]\n",
      " [ 11  22]\n",
      " [111 222]]\n",
      "<class 'numpy.ndarray'>\n"
     ]
    }
   ],
   "source": [
    "data = [[1,2],[11,22],[111,222]]\n",
    "a = np.array(data)\n",
    "print(a)\n",
    "print(type(a))"
   ]
  },
  {
   "cell_type": "code",
   "execution_count": 7,
   "metadata": {},
   "outputs": [
    {
     "data": {
      "text/plain": [
       "array([0, 1, 2, 3, 4, 5, 6, 7, 8, 9])"
      ]
     },
     "execution_count": 7,
     "metadata": {},
     "output_type": "execute_result"
    }
   ],
   "source": [
    "# as a range of values\n",
    "np.arange(10)"
   ]
  },
  {
   "cell_type": "code",
   "execution_count": 13,
   "metadata": {},
   "outputs": [
    {
     "data": {
      "text/plain": [
       "array([0.  , 0.25, 0.5 , 0.75, 1.  ])"
      ]
     },
     "execution_count": 13,
     "metadata": {},
     "output_type": "execute_result"
    }
   ],
   "source": [
    "np.linspace(0,1,5)"
   ]
  },
  {
   "cell_type": "code",
   "execution_count": 14,
   "metadata": {},
   "outputs": [
    {
     "name": "stdout",
     "output_type": "stream",
     "text": [
      "['1.0' 'is' 'True']\n"
     ]
    }
   ],
   "source": [
    "#Ndarray\n",
    "a = np.array([1.0, \"is\", True])\n",
    "print(a)"
   ]
  },
  {
   "cell_type": "code",
   "execution_count": 16,
   "metadata": {},
   "outputs": [
    {
     "name": "stdout",
     "output_type": "stream",
     "text": [
      "[1, 2, 3, 1, 2, 3]\n",
      "[1 2 3]\n"
     ]
    }
   ],
   "source": [
    "python_list = [1,2,3]\n",
    "np_list = np.array([1,2,3])\n",
    "print(python_list + python_list)\n",
    "print(np_list)"
   ]
  },
  {
   "cell_type": "code",
   "execution_count": 17,
   "metadata": {},
   "outputs": [
    {
     "name": "stdout",
     "output_type": "stream",
     "text": [
      "50\n",
      "[False False  True  True]\n",
      "[50 70]\n"
     ]
    }
   ],
   "source": [
    "# Subsetting\n",
    "bmi = np.array([10,30,50,70])\n",
    "print(bmi[2])\n",
    "print(bmi > 35)\n",
    "print(bmi[bmi>35])"
   ]
  },
  {
   "cell_type": "code",
   "execution_count": 22,
   "metadata": {},
   "outputs": [
    {
     "name": "stdout",
     "output_type": "stream",
     "text": [
      "[[ 1  2  3  4  5]\n",
      " [11 12 13 14 15]]\n",
      "[1 2 3 4 5]\n",
      "3\n",
      "3\n",
      "[[ 2  3]\n",
      " [12 13]]\n"
     ]
    }
   ],
   "source": [
    "an_array = np.array([[1,2,3,4,5],[11,12,13,14,15]])\n",
    "print(an_array)\n",
    "print(an_array[0])\n",
    "print(an_array[0][2])\n",
    "print(an_array[0,2])\n",
    "print(an_array[:,1:3])"
   ]
  },
  {
   "cell_type": "code",
   "execution_count": 26,
   "metadata": {},
   "outputs": [
    {
     "name": "stdout",
     "output_type": "stream",
     "text": [
      "[[0. 0.]\n",
      " [0. 0.]]\n",
      "[[9. 9.]\n",
      " [9. 9.]]\n",
      "[[1. 0.]\n",
      " [0. 1.]]\n",
      "[[1. 1.]\n",
      " [1. 1.]]\n",
      "[[0.75657287 0.05727745]\n",
      " [0.59214854 0.45728467]]\n"
     ]
    }
   ],
   "source": [
    "# Numpy Utilities\n",
    "print(np.zeros((2,2))) # create 2X2 array of zeros\n",
    "print(np.full((2,2), 9.0)) # create a 2X2 array filled with 9\n",
    "print(np.eye(2,2)) # create a 2X2 matrix with the diagonal 1s and the other 0s\n",
    "print(np.ones((2,2))) # create a array of ones\n",
    "print(np.random.random((2,2))) # create an array of random floats between 0 and 1"
   ]
  },
  {
   "cell_type": "code",
   "execution_count": 29,
   "metadata": {},
   "outputs": [
    {
     "name": "stdout",
     "output_type": "stream",
     "text": [
      "[[11 12 13 14]\n",
      " [21 22 23 24]\n",
      " [31 32 33 34]]\n",
      "[[12 13]\n",
      " [22 23]]\n"
     ]
    }
   ],
   "source": [
    "an_array = np.array([[11,12,13,14], [21,22,23,24],[31,32,33,34]])\n",
    "print(an_array)\n",
    "\n",
    "a_slice = an_array[:2, 1:3]\n",
    "print(a_slice)"
   ]
  },
  {
   "cell_type": "code",
   "execution_count": 36,
   "metadata": {},
   "outputs": [
    {
     "name": "stdout",
     "output_type": "stream",
     "text": [
      "[ 0  1  2  3  4  5  6  7  8  9 10 11 12 13 14]\n",
      "[[ 0  1  2  3  4]\n",
      " [ 5  6  7  8  9]\n",
      " [10 11 12 13 14]]\n",
      "[[2]\n",
      " [7]]\n",
      "[0 2 4]\n",
      "[ 0  2  4  6  8 10 12 14]\n"
     ]
    }
   ],
   "source": [
    "# Numpy slicing Index\n",
    "a = np.arange(15)\n",
    "print(a)\n",
    "b = a.reshape(3,5)\n",
    "print(b)\n",
    "print(b[:2, 2:3])\n",
    "print(a[0:5:2])\n",
    "print(a[::2])"
   ]
  },
  {
   "cell_type": "code",
   "execution_count": 37,
   "metadata": {},
   "outputs": [
    {
     "name": "stdout",
     "output_type": "stream",
     "text": [
      "Before :  1000\n",
      "After :  1000\n"
     ]
    }
   ],
   "source": [
    "print(\"Before : \", an_array[0,1]) #inspect the element at 0,1\n",
    "a_slice[0,0] = 1000 # a_slice[0,0] is the same piece of data as an_array[0,1]\n",
    "print(\"After : \", an_array[0,1])"
   ]
  },
  {
   "cell_type": "code",
   "execution_count": null,
   "metadata": {},
   "outputs": [],
   "source": []
  }
 ],
 "metadata": {
  "kernelspec": {
   "display_name": "Python 3",
   "language": "python",
   "name": "python3"
  },
  "language_info": {
   "codemirror_mode": {
    "name": "ipython",
    "version": 3
   },
   "file_extension": ".py",
   "mimetype": "text/x-python",
   "name": "python",
   "nbconvert_exporter": "python",
   "pygments_lexer": "ipython3",
   "version": "3.8.2"
  }
 },
 "nbformat": 4,
 "nbformat_minor": 4
}
