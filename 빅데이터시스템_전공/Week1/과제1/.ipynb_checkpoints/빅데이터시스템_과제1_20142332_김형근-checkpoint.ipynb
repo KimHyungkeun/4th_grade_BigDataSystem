{
 "cells": [
  {
   "cell_type": "code",
   "execution_count": 2,
   "metadata": {},
   "outputs": [
    {
     "name": "stdout",
     "output_type": "stream",
     "text": [
      "김형근's contact info\n",
      "phone : 010-2954-5541 \n",
      "e-mail : fnfn9087@gmail.com\n",
      "\n",
      "kim's contact info\n",
      "phone : 000-2222-2345 \n",
      "e-mail : kim@aa.bb.cc\n",
      "\n"
     ]
    }
   ],
   "source": [
    "contacts = { '김형근' : {'phone' : '010-2954-5541', 'email' : 'fnfn9087@gmail.com'}, 'kim' : {'phone' : '000-2222-2345','email' : 'kim@aa.bb.cc'}} #학생 dictionary \n",
    "\n",
    "for name in contacts :\n",
    "    print(name + ''''s contact info''') #학생의 이름 \n",
    "    print('phone : {} \\ne-mail : {}\\n'. format(contacts[name]['phone'], contacts[name]['email'])) #학생의 전화번호, 이메일 출력\n"
   ]
  },
  {
   "cell_type": "code",
   "execution_count": 3,
   "metadata": {},
   "outputs": [
    {
     "name": "stdout",
     "output_type": "stream",
     "text": [
      "김형근's contact information\n",
      "phone : 010-2954-5541\n",
      "email : fnfn9087@gmail.com\n",
      "school : None\n",
      "\n",
      "kim's contact information\n",
      "phone : 000-2222-2345\n",
      "email : kim@aa.bb.cc\n",
      "school : None\n",
      "\n"
     ]
    }
   ],
   "source": [
    "# 2020.10.13 추가\n",
    "for contact in contacts :\n",
    "    print(\"{}'s contact information\".format(contact))\n",
    "    print(\"phone : {}\".format(contacts[contact].get('phone')))\n",
    "    print(\"email : {}\".format(contacts[contact].get('email')))\n",
    "    print(\"school : {}\".format(contacts[contact].get('school'))) # key값이 없는 데이터의 경우 get을 통해 None정도로 표기는 가능함\n",
    "    print()"
   ]
  },
  {
   "cell_type": "code",
   "execution_count": 5,
   "metadata": {},
   "outputs": [
    {
     "name": "stdout",
     "output_type": "stream",
     "text": [
      "['even', 'even', 'odd', 'odd', 'odd']\n"
     ]
    }
   ],
   "source": [
    "student_number = [20142332, 20202222, 20203333, 20205555, 20205555] # 학번 리스트\n",
    "\n",
    "def odd_or_even(sn) :\n",
    "        if sn % 2 == 0 :\n",
    "            return 'even' #짝수면 even return\n",
    "        else :\n",
    "            return 'odd' #홀수면 odd를 return\n",
    "\n",
    "result = list(map(odd_or_even, student_number)) #학번 리스트에대해 odd_or_even 함수를 mapping\n",
    "print(result)\n"
   ]
  },
  {
   "cell_type": "code",
   "execution_count": 7,
   "metadata": {},
   "outputs": [
    {
     "name": "stdout",
     "output_type": "stream",
     "text": [
      "['even', 'even', 'odd', 'odd', 'odd']\n"
     ]
    }
   ],
   "source": [
    "# 2020.10.13 추가\n",
    "even_odd = ['even' if n % 2 == 0 else 'odd' for n in student_number]\n",
    "print(even_odd)"
   ]
  },
  {
   "cell_type": "code",
   "execution_count": 3,
   "metadata": {},
   "outputs": [
    {
     "name": "stdout",
     "output_type": "stream",
     "text": [
      "1256.0\n"
     ]
    }
   ],
   "source": [
    "class Sphere() :\n",
    "    pi = 3.14\n",
    "    def area(self, r) :\n",
    "        return 4 * self.pi * r ** 2 # pi가 해당 클래스 내에 있는 pi임을 표현하기위해 self를 붙임\n",
    "\n",
    "sphere = Sphere()\n",
    "print(sphere.area(10))"
   ]
  },
  {
   "cell_type": "code",
   "execution_count": 9,
   "metadata": {},
   "outputs": [
    {
     "name": "stdout",
     "output_type": "stream",
     "text": [
      "1256.0\n"
     ]
    }
   ],
   "source": [
    "# 2020.10.13 추가\n",
    "class Sphere() :\n",
    "    pi = 3.14\n",
    "    def area(self, r) :\n",
    "        return 4 * Sphere.pi * r ** 2 # pi가 해당 클래스 내에 있는 pi임을 표현하기위해 self를 붙임\n",
    "\n",
    "sphere = Sphere()\n",
    "print(sphere.area(10))"
   ]
  },
  {
   "cell_type": "code",
   "execution_count": 11,
   "metadata": {},
   "outputs": [
    {
     "name": "stdout",
     "output_type": "stream",
     "text": [
      "1256.0\n"
     ]
    }
   ],
   "source": [
    "# 2020.10.13 추가\n",
    "class Sphere() :\n",
    "    pi = 3.14\n",
    "    def __init__(self,r) :\n",
    "        self.r = r\n",
    "    def area(self) :\n",
    "        return 4 * Sphere.pi * self.r ** 2 # pi가 해당 클래스 내에 있는 pi임을 표현하기위해 self를 붙임\n",
    "\n",
    "sphere = Sphere(10)\n",
    "print(sphere.area())"
   ]
  },
  {
   "cell_type": "code",
   "execution_count": 13,
   "metadata": {},
   "outputs": [
    {
     "name": "stdout",
     "output_type": "stream",
     "text": [
      "['김형근', 'kim']\n"
     ]
    }
   ],
   "source": [
    "student = [ {'name' : '김형근', 'student_number' : 20142332}, {'name' : 'kim' , 'student_number' : 20202222}] # 학생 리스트\n",
    "\n",
    "result = list(map(lambda x : x['name'], student)) # 학생의 이름만을 출력하는 람다함수를 설정\n",
    "print(result)"
   ]
  },
  {
   "cell_type": "code",
   "execution_count": 14,
   "metadata": {},
   "outputs": [
    {
     "name": "stdout",
     "output_type": "stream",
     "text": [
      "['김형근', 'kim']\n"
     ]
    }
   ],
   "source": [
    "# 2020.10.13 추가\n",
    "def get_name(x) :\n",
    "    return x['name']\n",
    "\n",
    "name = list(map(get_name, student))\n",
    "print(name)"
   ]
  },
  {
   "cell_type": "code",
   "execution_count": null,
   "metadata": {},
   "outputs": [],
   "source": []
  }
 ],
 "metadata": {
  "kernelspec": {
   "display_name": "Python 3",
   "language": "python",
   "name": "python3"
  },
  "language_info": {
   "codemirror_mode": {
    "name": "ipython",
    "version": 3
   },
   "file_extension": ".py",
   "mimetype": "text/x-python",
   "name": "python",
   "nbconvert_exporter": "python",
   "pygments_lexer": "ipython3",
   "version": "3.8.2"
  }
 },
 "nbformat": 4,
 "nbformat_minor": 4
}
