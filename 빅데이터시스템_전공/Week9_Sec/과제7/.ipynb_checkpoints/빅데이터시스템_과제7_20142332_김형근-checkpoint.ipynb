{
 "cells": [
  {
   "cell_type": "code",
   "execution_count": 8,
   "metadata": {},
   "outputs": [
    {
     "data": {
      "text/plain": [
       "[('Spark', 4), ('is', 3), ('a', 2), ('This', 2)]"
      ]
     },
     "execution_count": 8,
     "metadata": {},
     "output_type": "execute_result"
    }
   ],
   "source": [
    "text_file = sc.textFile(\"spark.txt\")\n",
    "data = text_file.flatMap(lambda l : l.split(\" \"))\\\n",
    "        .map(lambda w : (w, 1))\\\n",
    "        .reduceByKey(lambda x, y : x+y)\\\n",
    "        .filter(lambda x : x[1] >= 2)\n",
    "data.collect()"
   ]
  },
  {
   "cell_type": "code",
   "execution_count": 11,
   "metadata": {},
   "outputs": [
    {
     "data": {
      "text/plain": [
       "[('Spark', 4), ('This', 2), ('a', 2), ('is', 3)]"
      ]
     },
     "execution_count": 11,
     "metadata": {},
     "output_type": "execute_result"
    }
   ],
   "source": [
    "data = data.map(lambda p : (p[0], p[1]))\\\n",
    "        .sortByKey(ascending=True)\n",
    "data.collect()"
   ]
  },
  {
   "cell_type": "code",
   "execution_count": 14,
   "metadata": {},
   "outputs": [
    {
     "name": "stdout",
     "output_type": "stream",
     "text": [
      "[('PageA', ['PageB', 'PageC']), ('PageB', ['PageC']), ('PageC', ['PageA']), ('PageD', ['PageC'])]\n",
      "[('PageA', 1), ('PageB', 1), ('PageC', 1), ('PageD', 1)]\n"
     ]
    }
   ],
   "source": [
    "mapLink = sc.parallelize([[\"PageA\", \"PageB\"], [\"PageA\", \"PageC\"],\\\n",
    "                          [\"PageB\", \"PageC\"], [\"PageC\", \"PageA\"],\\\n",
    "                          [\"PageD\", \"PageC\"]])\n",
    "links = mapLink.groupByKey()\n",
    "print(list((k,list(v)) for (k, v) in links.collect()))\n",
    "ranks = links.map(lambda pairs : (pairs[0], 1))\n",
    "print(ranks.collect())"
   ]
  },
  {
   "cell_type": "code",
   "execution_count": 17,
   "metadata": {},
   "outputs": [
    {
     "data": {
      "text/plain": [
       "[('PageB', 0.5),\n",
       " ('PageC', 0.5),\n",
       " ('PageC', 1.0),\n",
       " ('PageC', 1.0),\n",
       " ('PageA', 1.0)]"
      ]
     },
     "execution_count": 17,
     "metadata": {},
     "output_type": "execute_result"
    }
   ],
   "source": [
    "def computeContribs(urls, rank) :\n",
    "    \"\"\"Calculates URL contributions to the rank of other URLs.\"\"\"\n",
    "    num_urls = len(urls)\n",
    "    for url in urls:\n",
    "        yield (url, rank / num_urls)\n",
    "\n",
    "contribs = links.join(ranks).flatMap(lambda url_urls_rank : computeContribs(url_urls_rank[1][0], url_urls_rank[1][1]))\n",
    "contribs.collect()"
   ]
  },
  {
   "cell_type": "code",
   "execution_count": 23,
   "metadata": {},
   "outputs": [
    {
     "name": "stdout",
     "output_type": "stream",
     "text": [
      "[('PageB', 0.575), ('PageA', 1.0), ('PageC', 2.275)]\n"
     ]
    }
   ],
   "source": [
    "new_rank = contribs.reduceByKey(lambda x, y : x + y)\\\n",
    "                    .mapValues(lambda rank : 0.15+0.85*rank).collect()\n",
    "print(new_rank)"
   ]
  },
  {
   "cell_type": "code",
   "execution_count": null,
   "metadata": {},
   "outputs": [],
   "source": []
  }
 ],
 "metadata": {
  "kernelspec": {
   "display_name": "Python 3",
   "language": "python",
   "name": "python3"
  },
  "language_info": {
   "codemirror_mode": {
    "name": "ipython",
    "version": 3
   },
   "file_extension": ".py",
   "mimetype": "text/x-python",
   "name": "python",
   "nbconvert_exporter": "python",
   "pygments_lexer": "ipython3",
   "version": "3.8.2"
  }
 },
 "nbformat": 4,
 "nbformat_minor": 4
}
