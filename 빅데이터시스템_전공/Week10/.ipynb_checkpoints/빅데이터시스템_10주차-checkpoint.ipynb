{
 "cells": [
  {
   "cell_type": "markdown",
   "metadata": {},
   "source": [
    "# Partition dependency graph"
   ]
  },
  {
   "cell_type": "markdown",
   "metadata": {},
   "source": [
    "Y = X.filter(p) # where X:RDD[T]\\\n",
    "Y.partitions() -> Array(position)\\\n",
    "RDD는 partition으로 나뉘게됨\\\n",
    "만약, 120MB의 파일이 있을때 파티션을 3으로 설정할 경우, 40MB x 3 으로 나뉜다"
   ]
  },
  {
   "cell_type": "markdown",
   "metadata": {},
   "source": [
    "Z = X.filter(lambda x : x % 2 == 0).filter(lambda y : y < 3)\\\n",
    "X : RDD[int]\\\n",
    "Y : FilteredRDD[Int] , p = lambda x : x % 2 == 0\\\n",
    "Z : FilteredRDD[Int] , p = lambda y : y < 3"
   ]
  },
  {
   "cell_type": "markdown",
   "metadata": {},
   "source": [
    "# Lazy Evaluation"
   ]
  },
  {
   "cell_type": "markdown",
   "metadata": {},
   "source": [
    "All transformations in Spark\n",
    "- map\n",
    "- filter\n",
    "- flatMap\n",
    "- groupByKey\n",
    "- reduceByKey\n",
    "- join\\\n",
    "등등의 연산들\n",
    "\n",
    "Action 연산들\n",
    "- collect"
   ]
  },
  {
   "cell_type": "markdown",
   "metadata": {},
   "source": [
    "transformation 연산들은 바로바로 실행되는게 아니라 대기중에 있다가, action 연산이 실행되면 그때 다 실형된다\\\n",
    "이유 : 불필요한 연산을 막기위해 action을 취하기 전까지는 대기하다가 나중에 다 실행된다."
   ]
  },
  {
   "cell_type": "markdown",
   "metadata": {},
   "source": [
    "# Keyed transformation"
   ]
  },
  {
   "cell_type": "markdown",
   "metadata": {},
   "source": [
    "이 연산들은 파티션을 유지하지 못함\n",
    "- groupBykey()\n",
    "- reduceBykey()\n",
    "\n",
    "그룹화 또는 reduce를 함으로써, 셔플링이 일어나기때문에\n",
    "변화가 일어난 파티션에는 여러 파티션들의 내용들이 한데 모여 나온다"
   ]
  },
  {
   "cell_type": "markdown",
   "metadata": {},
   "source": [
    "# Narrow and wide dependency"
   ]
  },
  {
   "cell_type": "markdown",
   "metadata": {},
   "source": [
    "Y = X.filter(p)\n",
    "- 파티션이 바로바로 이어지면 Narrow Dependency\n",
    "\n",
    "Y = groupByKey(p)\n",
    "- 파티션이 key trnasformation 연산을 만나면 Dependency"
   ]
  },
  {
   "cell_type": "markdown",
   "metadata": {},
   "source": [
    "# Drivers and executors"
   ]
  },
  {
   "cell_type": "markdown",
   "metadata": {},
   "source": [
    "- Driver program runs your Spark application\n",
    "- Driver delegates tasks to executors to use cluster resources\n",
    "- In local mode, executors are collocated with the driver\n",
    "- In cluster mode, executors are located on other machines"
   ]
  },
  {
   "cell_type": "markdown",
   "metadata": {},
   "source": [
    "# Actions"
   ]
  },
  {
   "cell_type": "markdown",
   "metadata": {},
   "source": [
    "- Triggers data to be materialized and processed on the executors and then passes the outcome to the driver\n",
    "- Example : collect, print and save data"
   ]
  },
  {
   "cell_type": "markdown",
   "metadata": {},
   "source": [
    "# Frequently used actions"
   ]
  },
  {
   "cell_type": "markdown",
   "metadata": {},
   "source": [
    "- collect() # 모든 아이템들을 보여준다\n",
    "- take(n : int) # n개 아이템만 보여준다\n",
    "- top(n : int) # 상위 n개 아이템 보여줌\n",
    "- reduce(f:(T,T) -> T)\n",
    "- saveAsTextFile(path:String)"
   ]
  },
  {
   "cell_type": "markdown",
   "metadata": {},
   "source": [
    "# Resiliency"
   ]
  },
  {
   "cell_type": "markdown",
   "metadata": {},
   "source": [
    "- Determinism : Fucntion이 실행될때 그 결과가 항상 같아야 함 (ex : random number 사용안함, hash value 순서에 의존하지 않음)\n",
    "- Side effect로부터 자유로워야 함 (ex: database에 commit 하지 않음)"
   ]
  },
  {
   "cell_type": "markdown",
   "metadata": {},
   "source": [
    "# Fault tolerance and transforamtion"
   ]
  },
  {
   "cell_type": "markdown",
   "metadata": {},
   "source": [
    "- Lineage : a dependency graph for all partitions of all RDDs involved in a computation up to the data source\n",
    "- Action이 오게되면 백트래킹 하여, 하나하나씩 연산을 수행\n",
    "- 문제가 발생할 경우, Lineage를 통해 문제가 있는 파티션을 찾아서 리커버리 가능"
   ]
  },
  {
   "cell_type": "markdown",
   "metadata": {},
   "source": [
    "셔플링이 일어나는 wide dependency의 경우 연산이 복잡해지므로 효율성이 떨어진다. 가능하면 쓰임을 최소화 할것"
   ]
  },
  {
   "cell_type": "code",
   "execution_count": null,
   "metadata": {},
   "outputs": [],
   "source": []
  }
 ],
 "metadata": {
  "kernelspec": {
   "display_name": "Python 3",
   "language": "python",
   "name": "python3"
  },
  "language_info": {
   "codemirror_mode": {
    "name": "ipython",
    "version": 3
   },
   "file_extension": ".py",
   "mimetype": "text/x-python",
   "name": "python",
   "nbconvert_exporter": "python",
   "pygments_lexer": "ipython3",
   "version": "3.8.2"
  }
 },
 "nbformat": 4,
 "nbformat_minor": 4
}
