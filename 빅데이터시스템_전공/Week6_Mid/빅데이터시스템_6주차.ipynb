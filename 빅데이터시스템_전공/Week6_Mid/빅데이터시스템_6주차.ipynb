{
 "cells": [
  {
   "cell_type": "code",
   "execution_count": 9,
   "metadata": {},
   "outputs": [],
   "source": [
    "sc = SparkContext.getOrCreate()"
   ]
  },
  {
   "cell_type": "code",
   "execution_count": 10,
   "metadata": {},
   "outputs": [
    {
     "name": "stdout",
     "output_type": "stream",
     "text": [
      "ParallelCollectionRDD[24] at readRDDFromFile at PythonRDD.scala:262\n",
      "[('Amber', 22), ('Alfred', 23), ('Skye', 4), ('Albert', 12), ('Amber', 9)]\n"
     ]
    }
   ],
   "source": [
    "data = sc.parallelize(\n",
    "[('Amber',22),('Alfred',23),('Skye',4),('Albert',12),('Amber',9)])\n",
    "print(data)\n",
    "print(data.collect())"
   ]
  },
  {
   "cell_type": "code",
   "execution_count": 11,
   "metadata": {},
   "outputs": [
    {
     "name": "stdout",
     "output_type": "stream",
     "text": [
      "[0.3170665842030632, 1.2731134390663263, -0.5389280846540201, 0.024542946433471123, 1.0897156478413264, -0.5437300629230136, 0.9126056955713316, 0.25952856976275246, -1.9911240821785927, 0.882740335467687]\n"
     ]
    }
   ],
   "source": [
    "import numpy as np\n",
    "rData = [np.random.randn() for _ in range(10)]\n",
    "print(rData)"
   ]
  },
  {
   "cell_type": "code",
   "execution_count": 12,
   "metadata": {},
   "outputs": [
    {
     "name": "stdout",
     "output_type": "stream",
     "text": [
      "data\n",
      " ParallelCollectionRDD[25] at readRDDFromFile at PythonRDD.scala:262\n",
      "all data\n",
      " [0.3170665842030632, 1.2731134390663263, -0.5389280846540201, 0.024542946433471123, 1.0897156478413264, -0.5437300629230136, 0.9126056955713316, 0.25952856976275246, -1.9911240821785927, 0.882740335467687]\n",
      "the first 5\n",
      " [0.3170665842030632, 1.2731134390663263, -0.5389280846540201, 0.024542946433471123, 1.0897156478413264]\n"
     ]
    }
   ],
   "source": [
    "data = sc.parallelize(rData)\n",
    "print(\"data\\n\", data) #해당 context의 정보 표기\n",
    "print(\"all data\\n\", data.collect())\n",
    "print(\"the first 5\\n\", data.take(5))"
   ]
  },
  {
   "cell_type": "code",
   "execution_count": 13,
   "metadata": {},
   "outputs": [
    {
     "name": "stdout",
     "output_type": "stream",
     "text": [
      "[('park', 43), ('kim', 25)]\n"
     ]
    }
   ],
   "source": [
    "data = sc.parallelize([(\"park\",43),(\"kim\",25)])\n",
    "print(data.collect())"
   ]
  },
  {
   "cell_type": "code",
   "execution_count": 14,
   "metadata": {},
   "outputs": [
    {
     "data": {
      "text/plain": [
       "['ROMEO AND JULIET',\n",
       " '',\n",
       " '',\n",
       " 'ACT I',\n",
       " '',\n",
       " '',\n",
       " '',\n",
       " 'SCENE I\\tVerona. A public place.',\n",
       " '',\n",
       " '']"
      ]
     },
     "execution_count": 14,
     "metadata": {},
     "output_type": "execute_result"
    }
   ],
   "source": [
    "data = sc.textFile(\"./test1.txt\")\n",
    "data.take(10)"
   ]
  },
  {
   "cell_type": "code",
   "execution_count": 15,
   "metadata": {},
   "outputs": [
    {
     "name": "stdout",
     "output_type": "stream",
     "text": [
      "['b', 'a', 'c']\n",
      "ParallelCollectionRDD[32] at readRDDFromFile at PythonRDD.scala:262\n"
     ]
    }
   ],
   "source": [
    "# map \n",
    "x = sc.parallelize([\"b\",\"a\",\"c\"])\n",
    "print(x.collect())\n",
    "print(x)"
   ]
  },
  {
   "cell_type": "code",
   "execution_count": 16,
   "metadata": {},
   "outputs": [
    {
     "name": "stdout",
     "output_type": "stream",
     "text": [
      "[('b', 1), ('a', 1), ('c', 1)]\n",
      "PythonRDD[33] at collect at <ipython-input-16-cfaae7e231aa>:2\n"
     ]
    }
   ],
   "source": [
    "y = x.map(lambda z : (z,1))\n",
    "print(y.collect())\n",
    "print(y)"
   ]
  },
  {
   "cell_type": "code",
   "execution_count": 17,
   "metadata": {},
   "outputs": [
    {
     "name": "stdout",
     "output_type": "stream",
     "text": [
      "[1, 2, 3]\n",
      "[1, 3]\n"
     ]
    }
   ],
   "source": [
    "# filter\n",
    "x = sc.parallelize([1,2,3])\n",
    "y = x.filter(lambda x : x%2 == 1) # 홀수만 골라내기\n",
    "print(x.collect())\n",
    "print(y.collect())"
   ]
  },
  {
   "cell_type": "code",
   "execution_count": 18,
   "metadata": {},
   "outputs": [
    {
     "name": "stdout",
     "output_type": "stream",
     "text": [
      "[1, 2, 3]\n",
      "[1, 100, 42, 2, 200, 42, 3, 300, 42]\n"
     ]
    }
   ],
   "source": [
    "# flatmap\n",
    "x = sc.parallelize([1,2,3])\n",
    "y = x.flatMap(lambda x : (x, x * 100, 42))\n",
    "print(x.collect())\n",
    "print(y.collect())"
   ]
  },
  {
   "cell_type": "code",
   "execution_count": 19,
   "metadata": {},
   "outputs": [
    {
     "name": "stdout",
     "output_type": "stream",
     "text": [
      "[1, 2, 3]\n",
      "[(1, 100, 42), (2, 200, 42), (3, 300, 42)]\n"
     ]
    }
   ],
   "source": [
    "# map과 비교\n",
    "x = sc.parallelize([1,2,3])\n",
    "y = x.map(lambda x : (x, x * 100, 42))\n",
    "print(x.collect())\n",
    "print(y.collect())"
   ]
  },
  {
   "cell_type": "code",
   "execution_count": 20,
   "metadata": {},
   "outputs": [
    {
     "name": "stdout",
     "output_type": "stream",
     "text": [
      "[('J', ['John', 'James']), ('F', ['Fred']), ('A', ['Anna'])]\n"
     ]
    }
   ],
   "source": [
    "# groupBy에서는 함수 또는 키를 지정해야함, groupByKey라는 것도 있는데 이거는 key를 이미 알고 있을때\n",
    "x = sc.parallelize(['John', 'Fred', 'Anna', 'James'])\n",
    "y = x.groupBy(lambda w : w[0]) # key 값을 결정해주면, key값에 따라 그룹이 나뉨\n",
    "print([(k, list(v)) for (k,v) in y.collect()])"
   ]
  },
  {
   "cell_type": "code",
   "execution_count": 21,
   "metadata": {},
   "outputs": [
    {
     "name": "stdout",
     "output_type": "stream",
     "text": [
      "PythonRDD[45] at collect at <ipython-input-20-62372437a948>:4\n"
     ]
    }
   ],
   "source": [
    "print(y)"
   ]
  },
  {
   "cell_type": "code",
   "execution_count": 22,
   "metadata": {},
   "outputs": [
    {
     "data": {
      "text/plain": [
       "[('J', <pyspark.resultiterable.ResultIterable at 0x199ae06e100>),\n",
       " ('F', <pyspark.resultiterable.ResultIterable at 0x199ae06e1f0>),\n",
       " ('A', <pyspark.resultiterable.ResultIterable at 0x199adfc9220>)]"
      ]
     },
     "execution_count": 22,
     "metadata": {},
     "output_type": "execute_result"
    }
   ],
   "source": [
    "[(k,v) for k,v in y.collect()] # list형태로 지정해서 출력해야한다"
   ]
  },
  {
   "cell_type": "code",
   "execution_count": 23,
   "metadata": {},
   "outputs": [
    {
     "name": "stdout",
     "output_type": "stream",
     "text": [
      "[('B', 5), ('B', 4), ('A', 3), ('A', 2), ('A', 1)]\n",
      "[('B', [5, 4]), ('A', [3, 2, 1])]\n"
     ]
    }
   ],
   "source": [
    "# groupBykey\n",
    "x = sc.parallelize([('B',5),('B',4),('A',3),('A',2),('A',1)])\n",
    "y = x.groupByKey()\n",
    "print(x.collect())\n",
    "print(list((k, list(v)) for (k,v) in y.collect()))"
   ]
  },
  {
   "cell_type": "code",
   "execution_count": 24,
   "metadata": {},
   "outputs": [
    {
     "name": "stdout",
     "output_type": "stream",
     "text": [
      "[('B', 5), ('B', 4), ('A', 3), ('A', 2), ('A', 1)]\n",
      "[('B', [5, 4]), ('A', [3, 2, 1])]\n"
     ]
    }
   ],
   "source": [
    "x = sc.parallelize([('B',5),('B',4),('A',3),('A',2),('A',1)])\n",
    "y = x.groupByKey()\n",
    "print(x.collect())\n",
    "print(list((j[0], list(j[1])) for j in y.collect()))"
   ]
  },
  {
   "cell_type": "code",
   "execution_count": 25,
   "metadata": {},
   "outputs": [
    {
     "data": {
      "text/plain": [
       "[('B', <pyspark.resultiterable.ResultIterable at 0x199adfc95b0>),\n",
       " ('A', <pyspark.resultiterable.ResultIterable at 0x199adfcd160>)]"
      ]
     },
     "execution_count": 25,
     "metadata": {},
     "output_type": "execute_result"
    }
   ],
   "source": [
    "y.collect()"
   ]
  },
  {
   "cell_type": "code",
   "execution_count": 26,
   "metadata": {},
   "outputs": [
    {
     "data": {
      "text/plain": [
       "[('one', 1), ('two', 1), ('two', 1), ('three', 1), ('three', 1), ('three', 1)]"
      ]
     },
     "execution_count": 26,
     "metadata": {},
     "output_type": "execute_result"
    }
   ],
   "source": [
    "# reduceBYKey vs groupByKey, Key가 있을경우 reduceBYKey가 더 효율적임\n",
    "words = [\"one\", \"two\", \"two\", \"three\", \"three\", \"three\"]\n",
    "wordPairsRDD = sc.parallelize(words).map(lambda x : (x,1))\n",
    "wordPairsRDD.collect()"
   ]
  },
  {
   "cell_type": "code",
   "execution_count": 27,
   "metadata": {},
   "outputs": [
    {
     "data": {
      "text/plain": [
       "[('two', 2), ('three', 3), ('one', 1)]"
      ]
     },
     "execution_count": 27,
     "metadata": {},
     "output_type": "execute_result"
    }
   ],
   "source": [
    "wordsCountsWithReduce = wordPairsRDD.reduceByKey(lambda x,y : x+y).collect() #미리 value들을 count하고나서 컴퓨터에 배치\n",
    "wordsCountsWithReduce"
   ]
  },
  {
   "cell_type": "code",
   "execution_count": 28,
   "metadata": {},
   "outputs": [
    {
     "data": {
      "text/plain": [
       "[('two', 2), ('three', 3), ('one', 1)]"
      ]
     },
     "execution_count": 28,
     "metadata": {},
     "output_type": "execute_result"
    }
   ],
   "source": [
    "wordCountsWithGroup = wordPairsRDD.groupByKey().map(lambda x : (x[0], sum(x[1]))).collect() # value들을 먼저 컴퓨터에 배치하고 나서 나중에 모두 count\n",
    "wordCountsWithGroup"
   ]
  },
  {
   "cell_type": "code",
   "execution_count": 29,
   "metadata": {},
   "outputs": [
    {
     "name": "stdout",
     "output_type": "stream",
     "text": [
      "[[0, 1], [2, 3], [4, 5], [6, 7, 8, 9], [10, 11], [12, 13], [14, 15], [16, 17, 18, 19]]\n",
      "[[0, 1, 2, 3, 4], [5, 6, 7, 8, 9], [10, 11, 12, 13, 14], [15, 16, 17, 18, 19]]\n"
     ]
    }
   ],
   "source": [
    "# Partition and mapPartition\n",
    "data = sc.parallelize(np.arange(20))\n",
    "print(data.glom().collect())\n",
    "data1 = sc.parallelize(np.arange(20),4)\n",
    "print(data1.glom().collect())"
   ]
  },
  {
   "cell_type": "code",
   "execution_count": 30,
   "metadata": {},
   "outputs": [
    {
     "name": "stdout",
     "output_type": "stream",
     "text": [
      "[0, 1, 2, 3, 4, 5, 6, 7, 8, 9, 10, 11, 12, 13, 14, 15, 16, 17, 18, 19]\n",
      "[0, 1, 2, 3, 4, 5, 6, 7, 8, 9, 10, 11, 12, 13, 14, 15, 16, 17, 18, 19]\n"
     ]
    }
   ],
   "source": [
    "print(data.collect())\n",
    "print(data1.collect())"
   ]
  },
  {
   "cell_type": "code",
   "execution_count": 32,
   "metadata": {},
   "outputs": [
    {
     "name": "stdout",
     "output_type": "stream",
     "text": [
      "[[0, 1, 2, 3, 4], [5, 6, 7, 8, 9]]\n",
      "[[10], [35]]\n"
     ]
    }
   ],
   "source": [
    "x = sc.parallelize(np.arange(10),2)\n",
    "def f(iterator) :\n",
    "    yield sum(iterator)\n",
    "y = x.mapPartitions(f)\n",
    "# glom() flattens elements on the same parition, 즉 파티션 내의 요소들을 쭉 리스트로 나열한다\n",
    "print(x.glom().collect())\n",
    "print(y.glom().collect())"
   ]
  },
  {
   "cell_type": "code",
   "execution_count": 33,
   "metadata": {},
   "outputs": [
    {
     "name": "stdout",
     "output_type": "stream",
     "text": [
      "[0, 1, 2, 3, 4, 5, 6, 7, 8, 9]\n",
      "[10, 35]\n"
     ]
    }
   ],
   "source": [
    "print(x.collect())\n",
    "print(y.collect())"
   ]
  },
  {
   "cell_type": "code",
   "execution_count": 36,
   "metadata": {},
   "outputs": [
    {
     "name": "stdout",
     "output_type": "stream",
     "text": [
      "[[0, 1, 2, 3, 4], [5, 6, 7, 8, 9]]\n",
      "[[(0, 10)], [(1, 35)]]\n"
     ]
    }
   ],
   "source": [
    "# mapPartitionsWithIndex\n",
    "x = sc.parallelize(np.arange(10),2)\n",
    "def f(partitionIndex, iterator) :\n",
    "    yield(partitionIndex, sum(iterator))\n",
    "y = x.mapPartitionsWithIndex(f)\n",
    "\n",
    "print(x.glom().collect())\n",
    "print(y.glom().collect())"
   ]
  },
  {
   "cell_type": "code",
   "execution_count": null,
   "metadata": {},
   "outputs": [],
   "source": []
  }
 ],
 "metadata": {
  "kernelspec": {
   "display_name": "Python 3",
   "language": "python",
   "name": "python3"
  },
  "language_info": {
   "codemirror_mode": {
    "name": "ipython",
    "version": 3
   },
   "file_extension": ".py",
   "mimetype": "text/x-python",
   "name": "python",
   "nbconvert_exporter": "python",
   "pygments_lexer": "ipython3",
   "version": "3.8.3"
  }
 },
 "nbformat": 4,
 "nbformat_minor": 4
}
