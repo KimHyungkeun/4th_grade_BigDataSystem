{
 "cells": [
  {
   "cell_type": "code",
   "execution_count": 1,
   "metadata": {},
   "outputs": [
    {
     "name": "stdout",
     "output_type": "stream",
     "text": [
      "+---+---------+----------+----------+------+-------------------+-----------+------+\n",
      "| id|firstName|middleName|  lastName|gender|          birthDate|        ssn|salary|\n",
      "+---+---------+----------+----------+------+-------------------+-----------+------+\n",
      "|  1|   Pennie|     Carry|Hirschmann|     F|1955-07-02 13:30:00|981-43-9345| 56172|\n",
      "|  2|       An|     Amira|    Cowper|     F|1992-02-08 14:00:00|978-97-8086| 40203|\n",
      "|  3|    Quyen|    Marlen|      Dome|     F|1970-10-11 13:00:00|957-57-8246| 53417|\n",
      "|  4|  Coralie|  Antonina|   Marshal|     F|1990-04-11 13:00:00|963-39-4885| 94727|\n",
      "|  5|   Terrie|      Wava|     Bonar|     F|1980-01-16 14:00:00|964-49-8051| 79908|\n",
      "+---+---------+----------+----------+------+-------------------+-----------+------+\n",
      "only showing top 5 rows\n",
      "\n"
     ]
    }
   ],
   "source": [
    "peopleDF = spark.read.parquet(\"D:/김형근4학년2학기/빅데이터시스템(전공)/10주차/과제8/빅데이터시스템_과제8_20142332_김형근/people-10m.parquet\")\n",
    "peopleDF.show(5)"
   ]
  },
  {
   "cell_type": "code",
   "execution_count": 2,
   "metadata": {},
   "outputs": [
    {
     "name": "stdout",
     "output_type": "stream",
     "text": [
      "+------+------+\n",
      "|gender|salary|\n",
      "+------+------+\n",
      "|     F| 56172|\n",
      "|     F| 40203|\n",
      "|     F| 53417|\n",
      "|     F| 94727|\n",
      "|     F| 79908|\n",
      "+------+------+\n",
      "only showing top 5 rows\n",
      "\n"
     ]
    }
   ],
   "source": [
    "peopleDF.select(\"gender\",\"salary\").show(5)"
   ]
  },
  {
   "cell_type": "code",
   "execution_count": 3,
   "metadata": {},
   "outputs": [
    {
     "name": "stdout",
     "output_type": "stream",
     "text": [
      "+-------------+------+-------------------+\n",
      "|     lastName|salary|          birthDate|\n",
      "+-------------+------+-------------------+\n",
      "|       Cowper| 40203|1992-02-08 14:00:00|\n",
      "|      Marshal| 94727|1990-04-11 13:00:00|\n",
      "|Bourthouloume| 64652|1990-11-24 14:00:00|\n",
      "|     Sadgrove|101046|1990-11-07 14:00:00|\n",
      "|       Cardon| 60449|1994-05-15 13:00:00|\n",
      "+-------------+------+-------------------+\n",
      "only showing top 5 rows\n",
      "\n"
     ]
    }
   ],
   "source": [
    "from pyspark.sql.functions import year\n",
    "peopleDF = peopleDF.select(\"lastName\", \"salary\", \"birthDate\").filter(\"gender = 'M'\" and year(\"birthDate\") >= \"1990\")\n",
    "peopleDF.show(5)"
   ]
  },
  {
   "cell_type": "code",
   "execution_count": 6,
   "metadata": {},
   "outputs": [],
   "source": [
    "peopleDF = spark.read.parquet(\"D:/김형근4학년2학기/빅데이터시스템(전공)/10주차/과제8/빅데이터시스템_과제8_20142332_김형근/people-10m.parquet\")"
   ]
  },
  {
   "cell_type": "code",
   "execution_count": 7,
   "metadata": {},
   "outputs": [
    {
     "name": "stdout",
     "output_type": "stream",
     "text": [
      "+---------+-----+\n",
      "|firstName|count|\n",
      "+---------+-----+\n",
      "|   Sammie| 5462|\n",
      "|    Daryl| 5442|\n",
      "|   Bobbie| 5432|\n",
      "|      Lee| 5411|\n",
      "|     Troy| 5408|\n",
      "+---------+-----+\n",
      "only showing top 5 rows\n",
      "\n"
     ]
    }
   ],
   "source": [
    "peopleDF.groupBy(\"firstName\").count()\\\n",
    "        .orderBy(\"count\", ascending=False)\\\n",
    "        .show(5)"
   ]
  },
  {
   "cell_type": "code",
   "execution_count": 8,
   "metadata": {},
   "outputs": [
    {
     "name": "stdout",
     "output_type": "stream",
     "text": [
      "+----------+-----+\n",
      "|middleName|count|\n",
      "+----------+-----+\n",
      "|   Bryanna| 1140|\n",
      "|     Sofia| 1154|\n",
      "|   Raylene| 1157|\n",
      "|   Leonila| 1157|\n",
      "| Ernestine| 1159|\n",
      "+----------+-----+\n",
      "only showing top 5 rows\n",
      "\n"
     ]
    }
   ],
   "source": [
    "peopleDF.groupBy(\"middleName\").count()\\\n",
    "        .filter(\"count <= 3000\")\\\n",
    "        .orderBy(\"count\")\\\n",
    "        .show(5)"
   ]
  },
  {
   "cell_type": "code",
   "execution_count": null,
   "metadata": {},
   "outputs": [],
   "source": []
  }
 ],
 "metadata": {
  "kernelspec": {
   "display_name": "Python 3",
   "language": "python",
   "name": "python3"
  },
  "language_info": {
   "codemirror_mode": {
    "name": "ipython",
    "version": 3
   },
   "file_extension": ".py",
   "mimetype": "text/x-python",
   "name": "python",
   "nbconvert_exporter": "python",
   "pygments_lexer": "ipython3",
   "version": "3.8.2"
  }
 },
 "nbformat": 4,
 "nbformat_minor": 4
}
