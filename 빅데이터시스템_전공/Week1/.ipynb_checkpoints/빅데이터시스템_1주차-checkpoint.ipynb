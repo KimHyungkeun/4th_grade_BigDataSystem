{
 "cells": [
  {
   "cell_type": "code",
   "execution_count": 18,
   "metadata": {},
   "outputs": [
    {
     "data": {
      "text/plain": [
       "15"
      ]
     },
     "execution_count": 18,
     "metadata": {},
     "output_type": "execute_result"
    }
   ],
   "source": [
    "(lambda a : a+10) (5)"
   ]
  },
  {
   "cell_type": "code",
   "execution_count": 19,
   "metadata": {},
   "outputs": [
    {
     "data": {
      "text/plain": [
       "15"
      ]
     },
     "execution_count": 19,
     "metadata": {},
     "output_type": "execute_result"
    }
   ],
   "source": [
    "x = lambda a : a + 10\n",
    "x(5)"
   ]
  },
  {
   "cell_type": "code",
   "execution_count": 20,
   "metadata": {},
   "outputs": [
    {
     "data": {
      "text/plain": [
       "30"
      ]
     },
     "execution_count": 20,
     "metadata": {},
     "output_type": "execute_result"
    }
   ],
   "source": [
    "x = lambda a, b : a * b\n",
    "x(5,6)"
   ]
  },
  {
   "cell_type": "code",
   "execution_count": 21,
   "metadata": {},
   "outputs": [
    {
     "data": {
      "text/plain": [
       "6"
      ]
     },
     "execution_count": 21,
     "metadata": {},
     "output_type": "execute_result"
    }
   ],
   "source": [
    "high_ord_func = lambda x, func : x + func(x)\n",
    "high_ord_func(2, lambda x : x * x)"
   ]
  },
  {
   "cell_type": "code",
   "execution_count": 22,
   "metadata": {},
   "outputs": [
    {
     "data": {
      "text/plain": [
       "7"
      ]
     },
     "execution_count": 22,
     "metadata": {},
     "output_type": "execute_result"
    }
   ],
   "source": [
    "high_ord_func(2, lambda x : x + 3)"
   ]
  },
  {
   "cell_type": "code",
   "execution_count": 23,
   "metadata": {},
   "outputs": [
    {
     "data": {
      "text/plain": [
       "6"
      ]
     },
     "execution_count": 23,
     "metadata": {},
     "output_type": "execute_result"
    }
   ],
   "source": [
    "def square(x) :\n",
    "    return x * x\n",
    "high_ord_func(2, square)"
   ]
  },
  {
   "cell_type": "code",
   "execution_count": 24,
   "metadata": {},
   "outputs": [
    {
     "data": {
      "text/plain": [
       "7"
      ]
     },
     "execution_count": 24,
     "metadata": {},
     "output_type": "execute_result"
    }
   ],
   "source": [
    "def add3(x) :\n",
    "    return x+3\n",
    "high_ord_func(2, add3)"
   ]
  },
  {
   "cell_type": "code",
   "execution_count": 25,
   "metadata": {},
   "outputs": [
    {
     "name": "stdout",
     "output_type": "stream",
     "text": [
      "[1, 4, 9, 16, 25]\n",
      "[1, 4, 9, 16, 25]\n",
      "[1, 4, 9, 16, 25]\n"
     ]
    }
   ],
   "source": [
    "# map 함수 소개\n",
    "items = [1,2,3,4,5]\n",
    "squared = []\n",
    "for i in items :\n",
    "    squared.append(i**2)\n",
    "print(squared)\n",
    "\n",
    "squared = list(map(lambda x : x ** 2, items))\n",
    "print(squared)\n",
    "\n",
    "squared = list(map(square, items))\n",
    "print(squared)"
   ]
  },
  {
   "cell_type": "code",
   "execution_count": 26,
   "metadata": {},
   "outputs": [
    {
     "name": "stdout",
     "output_type": "stream",
     "text": [
      "[97.7, 98.60000000000001, 99.5, 100.4, 102.2]\n",
      "[2.5, 2.7777777777777777, 3.055555555555556, 3.3333333333333335, 3.8888888888888893]\n"
     ]
    }
   ],
   "source": [
    "def fahrenheit(T) :\n",
    "    return ((float(9)/5) * T + 32)\n",
    "def celsius(T) :\n",
    "    return (float(5)/9) * (T-32)\n",
    "temperatures = (36.5, 37, 37.5, 38, 39)\n",
    "F = map(fahrenheit, temperatures)\n",
    "C = map(celsius, F)\n",
    "\n",
    "temperatures_in_Fahrenheit = list(map(fahrenheit, temperatures))\n",
    "temperatures_in_Celsius = list(map(celsius, temperatures))\n",
    "\n",
    "print(temperatures_in_Fahrenheit)\n",
    "print(temperatures_in_Celsius)"
   ]
  },
  {
   "cell_type": "code",
   "execution_count": 27,
   "metadata": {},
   "outputs": [
    {
     "name": "stdout",
     "output_type": "stream",
     "text": [
      "[102.56, 97.7, 99.14, 100.4, 100.03999999999999]\n",
      "[39.2, 36.5, 37.300000000000004, 38.00000000000001, 37.8]\n"
     ]
    }
   ],
   "source": [
    "C = [39.2, 36.5, 37.3, 38, 37.8]\n",
    "F = list(map(lambda x : (float(9)/5)*x + 32, C))\n",
    "print(F)\n",
    "\n",
    "C = list(map(lambda x : (float(5)/9)*(x-32), F))\n",
    "print(C)"
   ]
  },
  {
   "cell_type": "code",
   "execution_count": 28,
   "metadata": {},
   "outputs": [
    {
     "name": "stdout",
     "output_type": "stream",
     "text": [
      "['S', 'K', 'K', 'A', 'V']\n"
     ]
    }
   ],
   "source": [
    "chars = ['s', 'k', 'k', 'a', 'v']\n",
    "def change_upper_case(s) :\n",
    "    return str(s).upper()\n",
    "map_iterator = map(change_upper_case, chars)\n",
    "output_list = list(map_iterator)\n",
    "print(output_list)"
   ]
  },
  {
   "cell_type": "code",
   "execution_count": 29,
   "metadata": {},
   "outputs": [
    {
     "name": "stdout",
     "output_type": "stream",
     "text": [
      "('KRUNAL', 'ANKIT', 'RUSHABH', 'DHAVAL', 'NEHAL')\n",
      "{'ANKIT', 'RUSHABH', 'DHAVAL', 'NEHAL', 'KRUNAL'}\n"
     ]
    }
   ],
   "source": [
    "names = ['krunal', 'ankit', 'rushabh', 'dhaval', 'nehal']\n",
    "convertedTuple = tuple(map(lambda s : str(s).upper(), names))\n",
    "print(convertedTuple)\n",
    "\n",
    "# names = ['krunal', 'ankit', 'rushabh', 'dhaval', 'nehal']\n",
    "convertedTuple = set(map(lambda s : str(s).upper(), names))\n",
    "print(convertedTuple)"
   ]
  },
  {
   "cell_type": "code",
   "execution_count": 30,
   "metadata": {},
   "outputs": [
    {
     "name": "stdout",
     "output_type": "stream",
     "text": [
      "[18, 14, 14, 14]\n",
      "[17, 10, 19, 23]\n",
      "[37.5, 33.0, 24.5, 21.0]\n"
     ]
    }
   ],
   "source": [
    "a = [1,2,3,4]\n",
    "b = [17,12,11,10]\n",
    "c = [-1,-4,5,9]\n",
    "D = list(map(lambda x, y : x+y, a, b))\n",
    "E = list(map(lambda x, y, z : x+y+z, a,b,c))\n",
    "F = list(map(lambda x, y, z : 2.5*x + 2*y - z, a,b,c))\n",
    "print(D)\n",
    "print(E)\n",
    "print(F)"
   ]
  },
  {
   "cell_type": "code",
   "execution_count": 32,
   "metadata": {},
   "outputs": [
    {
     "name": "stdout",
     "output_type": "stream",
     "text": [
      "[37.5, 33.0, 24.5]\n",
      "243\n",
      "1024\n",
      "[243, 1024]\n"
     ]
    }
   ],
   "source": [
    "a = [1,2,3]\n",
    "b = [17, 12, 11, 10]\n",
    "c = [-1,-4,5,9]\n",
    "print(list(map(lambda x, y, z : 2.5*x + 2*y - z, a, b, c)))\n",
    "\n",
    "print(pow(3,5))\n",
    "print(pow(2,10))\n",
    "print(list(map(pow,[3,2],[5,10])))"
   ]
  },
  {
   "cell_type": "code",
   "execution_count": 33,
   "metadata": {},
   "outputs": [
    {
     "name": "stdout",
     "output_type": "stream",
     "text": [
      "[0, 0]\n",
      "[1, 2]\n",
      "[4, 4]\n",
      "[9, 6]\n",
      "[16, 8]\n"
     ]
    }
   ],
   "source": [
    "def multiply(x) :\n",
    "    return (x*x)\n",
    "def add (x) :\n",
    "    return (x+x)\n",
    "\n",
    "funcs = [multiply, add]\n",
    "for i in range(5) :\n",
    "    value = list(map(lambda x : x (i), funcs))\n",
    "    print(value)"
   ]
  },
  {
   "cell_type": "code",
   "execution_count": 36,
   "metadata": {},
   "outputs": [
    {
     "name": "stdout",
     "output_type": "stream",
     "text": [
      "['python', 'java']\n",
      "[100, 80]\n",
      "[True, False]\n"
     ]
    }
   ],
   "source": [
    "dict_a = [{'name' : 'python', 'points' : 10}, {'name' : 'java', 'points' : 8}]\n",
    "A = map(lambda x : x['name'], dict_a) \n",
    "B = map(lambda x : x['points']*10, dict_a)\n",
    "C = map(lambda x : x['name'] == 'python', dict_a)\n",
    "print(list(A))\n",
    "print(list(B))\n",
    "print(list(C))"
   ]
  },
  {
   "cell_type": "code",
   "execution_count": 40,
   "metadata": {},
   "outputs": [
    {
     "name": "stdout",
     "output_type": "stream",
     "text": [
      "[-5, -4, -3, -2, -1, 0, 1, 2, 3, 4]\n",
      "[-5, -4, -3, -2, -1]\n",
      "[2, 3, 5, 7]\n"
     ]
    }
   ],
   "source": [
    "# filter 함수 소개\n",
    "\n",
    "print(list(range(-5,5)))\n",
    "# list(range(-5,5))\n",
    "\n",
    "a = filter(lambda x : x < 0, range(-5,5))\n",
    "print(list(a))\n",
    "\n",
    "a = [1,2,3,5,7,9]\n",
    "b = [2,3,5,6,7,8]\n",
    "print(list(filter(lambda x : x in a, b)))"
   ]
  },
  {
   "cell_type": "code",
   "execution_count": 43,
   "metadata": {},
   "outputs": [
    {
     "name": "stdout",
     "output_type": "stream",
     "text": [
      "[18, 24, 32]\n",
      "[18, 24, 32]\n"
     ]
    }
   ],
   "source": [
    "ages = [5,12,17,18,24,32]\n",
    "\n",
    "def myFunc(x) :\n",
    "    if x < 18 :\n",
    "        return False\n",
    "    else :\n",
    "        return True\n",
    "\n",
    "adults = filter(myFunc, ages)\n",
    "print(list(adults))\n",
    "\n",
    "print(list(filter(lambda x : x >= 18, ages)))"
   ]
  },
  {
   "cell_type": "code",
   "execution_count": 44,
   "metadata": {},
   "outputs": [
    {
     "name": "stdout",
     "output_type": "stream",
     "text": [
      "The filtered vowels are:\n",
      "a\n",
      "e\n",
      "i\n",
      "o\n"
     ]
    }
   ],
   "source": [
    "# list of alphabets\n",
    "alphabets = ['a', 'b', 'd', 'e', 'i','j','o']\n",
    "\n",
    "def filterVowels(alphabet) :\n",
    "    vowels = ['a','e','i','o','u']\n",
    "    \n",
    "    if alphabet in vowels :\n",
    "        return True\n",
    "    else :\n",
    "        return False\n",
    "\n",
    "filteredVowels = filter(filterVowels, alphabets)\n",
    "\n",
    "print('The filtered vowels are:')\n",
    "for vowel in filteredVowels :\n",
    "    print(vowel)"
   ]
  },
  {
   "cell_type": "code",
   "execution_count": 45,
   "metadata": {},
   "outputs": [
    {
     "name": "stdout",
     "output_type": "stream",
     "text": [
      "['hi', 'is', 'us']\n"
     ]
    }
   ],
   "source": [
    "listOfStr = ['hi', 'this', 'is', 'a','very','simple','string','for','us']\n",
    "\n",
    "filteredlist = list(filter(lambda x : len(x) == 2, listOfStr))\n",
    "print(filteredlist)"
   ]
  },
  {
   "cell_type": "code",
   "execution_count": 47,
   "metadata": {},
   "outputs": [
    {
     "name": "stdout",
     "output_type": "stream",
     "text": [
      "Filtered Characters :  Hi thi i  mple tring,  very mple tring\n",
      "Filtered Array :  [1, 4, 21, 33, 45, 77, 88, 99, 32, 55, 77, 22, 4]\n"
     ]
    }
   ],
   "source": [
    "strObj = \"Hi this is a sample string, a very sample string\"\n",
    "filteredChars = ''.join(filter(lambda x : x not in ['a','s'], strObj))\n",
    "print(\"Filtered Characters : \", filteredChars)\n",
    "\n",
    "array1 = [1,3,4,5,21,33,45,66,77,88,99,5,3,32,55,66,77,22,3,4,5]\n",
    "array2 = [5,3,66]\n",
    "\n",
    "filteredArray = list(filter(lambda x : x not in array2, array1))\n",
    "print('Filtered Array : ', filteredArray)"
   ]
  },
  {
   "cell_type": "code",
   "execution_count": 48,
   "metadata": {},
   "outputs": [
    {
     "data": {
      "text/plain": [
       "24"
      ]
     },
     "execution_count": 48,
     "metadata": {},
     "output_type": "execute_result"
    }
   ],
   "source": [
    "# reduce 함수 소개\n",
    "from functools import reduce\n",
    "reduce((lambda x , y : x * y), [1,2,3,4])"
   ]
  },
  {
   "cell_type": "code",
   "execution_count": 49,
   "metadata": {},
   "outputs": [
    {
     "data": {
      "text/plain": [
       "2400"
      ]
     },
     "execution_count": 49,
     "metadata": {},
     "output_type": "execute_result"
    }
   ],
   "source": [
    "reduce ((lambda x, y : x * y), [1,2,3,4], 100)"
   ]
  },
  {
   "cell_type": "code",
   "execution_count": 50,
   "metadata": {},
   "outputs": [
    {
     "name": "stdout",
     "output_type": "stream",
     "text": [
      "10\n"
     ]
    }
   ],
   "source": [
    "lists = [10,6,7,5,2,1,8,5]\n",
    "s = reduce(lambda x, y : x if (x > y) else y, lists)\n",
    "print(s)"
   ]
  },
  {
   "cell_type": "code",
   "execution_count": 51,
   "metadata": {},
   "outputs": [
    {
     "name": "stdout",
     "output_type": "stream",
     "text": [
      "105\n"
     ]
    }
   ],
   "source": [
    "lists = [10,6,7,105,2,1,8,5]\n",
    "s = reduce(lambda x, y : x if (x > y) else y, lists)\n",
    "print(s)"
   ]
  },
  {
   "cell_type": "code",
   "execution_count": 52,
   "metadata": {},
   "outputs": [
    {
     "name": "stdout",
     "output_type": "stream",
     "text": [
      "200\n"
     ]
    }
   ],
   "source": [
    "lists = [10,6,7,105,2,1,8,5]\n",
    "s = reduce(lambda x, y : x if (x > y) else y, lists, 200)\n",
    "print(s)"
   ]
  },
  {
   "cell_type": "code",
   "execution_count": null,
   "metadata": {},
   "outputs": [],
   "source": []
  }
 ],
 "metadata": {
  "kernelspec": {
   "display_name": "Python 3",
   "language": "python",
   "name": "python3"
  },
  "language_info": {
   "codemirror_mode": {
    "name": "ipython",
    "version": 3
   },
   "file_extension": ".py",
   "mimetype": "text/x-python",
   "name": "python",
   "nbconvert_exporter": "python",
   "pygments_lexer": "ipython3",
   "version": "3.8.2"
  }
 },
 "nbformat": 4,
 "nbformat_minor": 4
}
