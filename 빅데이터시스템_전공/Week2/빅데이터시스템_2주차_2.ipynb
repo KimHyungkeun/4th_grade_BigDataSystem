{
 "cells": [
  {
   "cell_type": "code",
   "execution_count": 9,
   "metadata": {},
   "outputs": [
    {
     "name": "stdout",
     "output_type": "stream",
     "text": [
      "[[11 12 13 14]\n",
      " [21 22 23 24]\n",
      " [31 32 33 34]]\n",
      "[21 22 23 24] (4,)\n"
     ]
    }
   ],
   "source": [
    "# index slicing\n",
    "import numpy as np\n",
    "an_array = np.array([[11,12,13,14], [21,22,23,24], [31,32,33,34]])\n",
    "print(an_array)\n",
    "row_rank1 = an_array[1,:]\n",
    "print(row_rank1, row_rank1.shape)"
   ]
  },
  {
   "cell_type": "code",
   "execution_count": 10,
   "metadata": {},
   "outputs": [
    {
     "name": "stdout",
     "output_type": "stream",
     "text": [
      "[[21 22 23 24]] (1, 4)\n"
     ]
    }
   ],
   "source": [
    "row_rank2 = an_array[1:2, :]\n",
    "print(row_rank2, row_rank2.shape)"
   ]
  },
  {
   "cell_type": "code",
   "execution_count": 11,
   "metadata": {},
   "outputs": [
    {
     "name": "stdout",
     "output_type": "stream",
     "text": [
      "[12 22 32] (3,)\n",
      "[[12]\n",
      " [22]\n",
      " [32]] (3, 1)\n"
     ]
    }
   ],
   "source": [
    "col_rank1 = an_array[:, 1]\n",
    "col_rank2 = an_array[:, 1:2]\n",
    "print(col_rank1, col_rank1.shape)\n",
    "print(col_rank2, col_rank2.shape)"
   ]
  },
  {
   "cell_type": "code",
   "execution_count": 13,
   "metadata": {},
   "outputs": [
    {
     "name": "stdout",
     "output_type": "stream",
     "text": [
      "Original Array : \n",
      " [[11 12 13 14]\n",
      " [21 22 23 24]\n",
      " [31 32 33 34]\n",
      " [41 42 43 44]]\n",
      "(4, 4)\n"
     ]
    }
   ],
   "source": [
    "# More array indexing\n",
    "an_array = np.array([[11,12,13,14],[21,22,23,24],[31,32,33,34],[41,42,43,44]])\n",
    "print('Original Array : \\n', an_array)\n",
    "print(an_array.shape)"
   ]
  },
  {
   "cell_type": "code",
   "execution_count": 25,
   "metadata": {},
   "outputs": [
    {
     "name": "stdout",
     "output_type": "stream",
     "text": [
      "[0 1 2 3]\n",
      "[0 1 2 0]\n",
      "<zip object at 0x047BB968>\n"
     ]
    }
   ],
   "source": [
    "row_indices = np.arange(4)\n",
    "# row_indices = np.arange(5)\n",
    "col_indices = np.array([0,1,2,0])\n",
    "print(row_indices)\n",
    "print(col_indices)\n",
    "print(zip(row_indices,col_indices))"
   ]
  },
  {
   "cell_type": "code",
   "execution_count": 26,
   "metadata": {},
   "outputs": [
    {
     "name": "stdout",
     "output_type": "stream",
     "text": [
      "0   0\n",
      "1   1\n",
      "2   2\n",
      "3   0\n"
     ]
    }
   ],
   "source": [
    "for row, col in zip(row_indices,col_indices) :\n",
    "    print(row, \" \", col)"
   ]
  },
  {
   "cell_type": "code",
   "execution_count": 27,
   "metadata": {},
   "outputs": [
    {
     "name": "stdout",
     "output_type": "stream",
     "text": [
      "Values : \n",
      " [11 22 33 41]\n"
     ]
    }
   ],
   "source": [
    "print(\"Values : \\n\", an_array[row_indices, col_indices])"
   ]
  },
  {
   "cell_type": "code",
   "execution_count": 30,
   "metadata": {},
   "outputs": [
    {
     "name": "stdout",
     "output_type": "stream",
     "text": [
      "[[11 12]\n",
      " [21 22]\n",
      " [31 32]]\n",
      "[[False False]\n",
      " [ True  True]\n",
      " [ True  True]]\n",
      "[21 22 31 32]\n"
     ]
    },
    {
     "data": {
      "text/plain": [
       "array([21, 22, 31, 32])"
      ]
     },
     "execution_count": 30,
     "metadata": {},
     "output_type": "execute_result"
    }
   ],
   "source": [
    "# Boolean indexing (1)\n",
    "an_array = np.array([[11,12],[21,22],[31,32]])\n",
    "filter = (an_array > 15)\n",
    "\n",
    "print(an_array)\n",
    "print(filter)\n",
    "\n",
    "print(an_array[filter])\n",
    "\n",
    "an_array[an_array>15]"
   ]
  },
  {
   "cell_type": "code",
   "execution_count": 35,
   "metadata": {},
   "outputs": [
    {
     "data": {
      "text/plain": [
       "array([21])"
      ]
     },
     "execution_count": 35,
     "metadata": {},
     "output_type": "execute_result"
    }
   ],
   "source": [
    "an_array[(an_array > 20) & (an_array < 30)]"
   ]
  },
  {
   "cell_type": "code",
   "execution_count": 36,
   "metadata": {},
   "outputs": [
    {
     "name": "stdout",
     "output_type": "stream",
     "text": [
      "[312 322 332]\n",
      "[[ 11 412]\n",
      " [ 21 422]\n",
      " [ 31 432]]\n"
     ]
    }
   ],
   "source": [
    "print(an_array[an_array % 2 == 0])\n",
    "an_array[an_array % 2 == 0] += 100\n",
    "print(an_array)"
   ]
  },
  {
   "cell_type": "code",
   "execution_count": 39,
   "metadata": {},
   "outputs": [
    {
     "name": "stdout",
     "output_type": "stream",
     "text": [
      "[[ 0  1  2  3  4]\n",
      " [ 5  6  7  8  9]\n",
      " [10 11 12 13 14]]\n",
      "[[ True False False  True False]\n",
      " [False  True False False  True]\n",
      " [False False  True False False]]\n"
     ]
    },
    {
     "data": {
      "text/plain": [
       "array([ 0,  3,  6,  9, 12])"
      ]
     },
     "execution_count": 39,
     "metadata": {},
     "output_type": "execute_result"
    }
   ],
   "source": [
    "a = np.arange(15).reshape((3,5))\n",
    "print(a)\n",
    "br = (a % 3 == 0)\n",
    "print(b)\n",
    "a[b]"
   ]
  },
  {
   "cell_type": "code",
   "execution_count": 44,
   "metadata": {},
   "outputs": [
    {
     "name": "stdout",
     "output_type": "stream",
     "text": [
      "int32\n",
      "float64\n",
      "int64\n",
      " \n",
      "[11 12]\n",
      "int64\n",
      "[11. 12.]\n",
      "float64\n"
     ]
    }
   ],
   "source": [
    "# Datatypes\n",
    "ex1 = np.array([11,12])\n",
    "ex2 = np.array([11.0, 12.0])\n",
    "ex3 = np.array([11,12], dtype=np.int64)\n",
    "print(ex1.dtype)\n",
    "print(ex2.dtype)\n",
    "print(ex3.dtype)\n",
    "print(\" \")\n",
    "\n",
    "ex4 = np.array([11.1,12.7], dtype=np.int64)\n",
    "print(ex4)\n",
    "print(ex4.dtype)\n",
    "ex5 = np.array([11,12], dtype=np.float64)\n",
    "print(ex5)\n",
    "print(ex5.dtype)"
   ]
  },
  {
   "cell_type": "code",
   "execution_count": 47,
   "metadata": {},
   "outputs": [
    {
     "name": "stdout",
     "output_type": "stream",
     "text": [
      "[[322.1 324.1]\n",
      " [342.1 344.2]]\n",
      "[[322.1 324.1]\n",
      " [342.1 344.2]]\n",
      " \n",
      "[[-100.1 -100.1]\n",
      " [-100.1 -100.2]]\n",
      "[[-100.1 -100.1]\n",
      " [-100.1 -100.2]]\n",
      " \n",
      "[[0.52581715 0.52805281]\n",
      " [0.54726368 0.54905491]]\n",
      "[[0.52581715 0.52805281]\n",
      " [0.54726368 0.54905491]]\n",
      " \n",
      "[[10.53565375 10.58300524]\n",
      " [11.         11.04536102]]\n",
      "[[1.60948707e+48 4.37503945e+48]\n",
      " [3.54513118e+52 9.63666567e+52]]\n"
     ]
    }
   ],
   "source": [
    "# Arithmetic array operation 산술연산\n",
    "x = np.array([[111,112],[121,122]], dtype = np.int)\n",
    "y = np.array([[211.1,212.1], [221.1,222.2]], dtype = np.float64)\n",
    "print(x+y)\n",
    "print(np.add(x,y))\n",
    "print(\" \")\n",
    "print(x-y)\n",
    "print(np.subtract(x,y))\n",
    "print(\" \")\n",
    "print(x/y)\n",
    "print(np.divide(x,y))\n",
    "print(\" \")\n",
    "print(np.sqrt(x))\n",
    "print(np.exp(x))"
   ]
  },
  {
   "cell_type": "code",
   "execution_count": 48,
   "metadata": {},
   "outputs": [
    {
     "name": "stdout",
     "output_type": "stream",
     "text": [
      "[0 1 2 3 4 5 6 7]\n",
      "(8,)\n",
      "[[0]\n",
      " [1]\n",
      " [2]\n",
      " [3]\n",
      " [4]\n",
      " [5]\n",
      " [6]\n",
      " [7]]\n",
      "(8, 1)\n",
      "[[0 1 2 3]\n",
      " [4 5 6 7]]\n",
      "[[[0 1]\n",
      "  [2 3]]\n",
      "\n",
      " [[4 5]\n",
      "  [6 7]]]\n"
     ]
    }
   ],
   "source": [
    "# Reshaping\n",
    "a = np.array(range(8))\n",
    "print(a)\n",
    "print(a.shape)\n",
    "b = a.reshape((a.shape[0],1))\n",
    "print(b)\n",
    "print(b.shape)\n",
    "c = a.reshape(2,4)\n",
    "print(c)\n",
    "d = a.reshape(2,2,2)\n",
    "print(d)"
   ]
  },
  {
   "cell_type": "code",
   "execution_count": 61,
   "metadata": {},
   "outputs": [
    {
     "name": "stdout",
     "output_type": "stream",
     "text": [
      "[[-0.43834755  0.01506244 -0.35381788  0.92015742 -0.12705607]\n",
      " [-0.27629584  0.94401054  0.5526963  -1.18610356 -0.02149317]]\n",
      "\n",
      "[[0.72392612 0.45510462 0.71944542 0.61228178 0.02763326]\n",
      " [0.89706713 0.41360867 0.26209046 0.85604513 0.49406261]]\n",
      "\n",
      "[50.03503139 49.92019287 50.06731877 49.86436309 50.01116816]\n"
     ]
    }
   ],
   "source": [
    "# Random number generation\n",
    "arr = np.random.randn(2,5) # 평균 0, 표준편차 1인 임의의 random 2X5 matrix\n",
    "print(arr)\n",
    "print()\n",
    "arr = np.random.rand(2,5) # 0과 1사이의 random 2X5 matrix\n",
    "print(arr)\n",
    "print()\n",
    "arr = np.random.normal(50, .1, 5) # 평균 50, 표준편차 0,1, 갯수 5개\n",
    "print(arr)"
   ]
  },
  {
   "cell_type": "code",
   "execution_count": 62,
   "metadata": {},
   "outputs": [
    {
     "name": "stdout",
     "output_type": "stream",
     "text": [
      "0.05126877637699904\n",
      "[-0.02960464  0.1321422 ]\n",
      "[ 1.23051204  0.0319196  -0.16765152 -0.32159978 -0.51683645]\n",
      "0.5126877637699904\n",
      "[-0.14802321  0.66071098]\n",
      "[ 2.46102408  0.06383919 -0.33530304 -0.64319956 -1.0336729 ]\n"
     ]
    }
   ],
   "source": [
    "# Numpy axis\n",
    "arr = np.random.randn(2,5)\n",
    "print(arr.mean()) # 총 평균 계산\n",
    "print(arr.mean(axis=1)) # row별로 묶어서 평균값 게산\n",
    "print(arr.mean(axis=0)) # column별로 묶어서 평균값 계산\n",
    "\n",
    "print(arr.sum()) # 총 합계 계산\n",
    "print(arr.sum(axis=1)) # row별로 묶어서 총합 게산\n",
    "print(arr.sum(axis=0)) # column별로 묶어서 총합 계산"
   ]
  },
  {
   "cell_type": "code",
   "execution_count": 63,
   "metadata": {},
   "outputs": [
    {
     "name": "stdout",
     "output_type": "stream",
     "text": [
      "[ 2.51362726 -1.31404768  0.6160488   0.2048978   0.84750154 -1.02625197\n",
      " -0.95412948  0.91643459 -0.99240513  0.62858482]\n",
      "[-1.31404768 -1.02625197 -0.99240513 -0.95412948  0.2048978   0.6160488\n",
      "  0.62858482  0.84750154  0.91643459  2.51362726]\n"
     ]
    }
   ],
   "source": [
    "# Sorting and set operations\n",
    "unsorted = np.random.randn(10)\n",
    "print(unsorted)\n",
    "sorted = np.array(unsorted)\n",
    "sorted.sort()\n",
    "print(sorted)"
   ]
  },
  {
   "cell_type": "code",
   "execution_count": 64,
   "metadata": {},
   "outputs": [
    {
     "data": {
      "text/plain": [
       "array([1, 2, 3])"
      ]
     },
     "execution_count": 64,
     "metadata": {},
     "output_type": "execute_result"
    }
   ],
   "source": [
    "# finding unique elements\n",
    "array = np.array([1,2,3,1,2,3])\n",
    "np.unique(array)"
   ]
  },
  {
   "cell_type": "code",
   "execution_count": 65,
   "metadata": {},
   "outputs": [
    {
     "name": "stdout",
     "output_type": "stream",
     "text": [
      "['bulb' 'chair']\n",
      "['bulb' 'chair' 'desk' 'lamp']\n",
      "['desk']\n",
      "[False  True  True]\n"
     ]
    }
   ],
   "source": [
    "# set operation\n",
    "s1 = np.array([\"desk\", \"chair\", \"bulb\"])\n",
    "s2 = np.array([\"lamp\", \"bulb\", \"chair\"])\n",
    "print(np.intersect1d(s1,s2))\n",
    "print(np.union1d(s1,s2))\n",
    "print(np.setdiff1d(s1,s2))\n",
    "print(np.in1d(s1,s2)) # s1의 원소가 s2에도 있는지"
   ]
  },
  {
   "cell_type": "code",
   "execution_count": 67,
   "metadata": {},
   "outputs": [
    {
     "name": "stdout",
     "output_type": "stream",
     "text": [
      "[[0. 0. 0.]\n",
      " [0. 0. 0.]\n",
      " [0. 0. 0.]\n",
      " [0. 0. 0.]]\n",
      "[1 0 2]\n",
      "[[1. 0. 2.]\n",
      " [1. 0. 2.]\n",
      " [1. 0. 2.]\n",
      " [1. 0. 2.]]\n"
     ]
    }
   ],
   "source": [
    "# Broadcasting example \n",
    "\n",
    "start = np.zeros((4,3))\n",
    "add_rows = np.array([1,0,2])\n",
    "print(start)\n",
    "print(add_rows)\n",
    "\n",
    "y = start + add_rows\n",
    "print(y)"
   ]
  },
  {
   "cell_type": "code",
   "execution_count": 68,
   "metadata": {},
   "outputs": [
    {
     "name": "stdout",
     "output_type": "stream",
     "text": [
      "[[0]\n",
      " [1]\n",
      " [2]\n",
      " [3]]\n",
      "[[0. 0. 0.]\n",
      " [1. 1. 1.]\n",
      " [2. 2. 2.]\n",
      " [3. 3. 3.]]\n"
     ]
    }
   ],
   "source": [
    "add_cols = np.array([[0,1,2,3]])\n",
    "add_cols = add_cols.T\n",
    "print(add_cols)\n",
    "y = start + add_cols\n",
    "print(y)"
   ]
  },
  {
   "cell_type": "code",
   "execution_count": 69,
   "metadata": {},
   "outputs": [
    {
     "name": "stdout",
     "output_type": "stream",
     "text": [
      "[1]\n",
      "[[1. 1. 1.]\n",
      " [1. 1. 1.]\n",
      " [1. 1. 1.]\n",
      " [1. 1. 1.]]\n"
     ]
    }
   ],
   "source": [
    "add_scalar = np.array([1])\n",
    "print(add_scalar)\n",
    "print(start + add_scalar)"
   ]
  },
  {
   "cell_type": "code",
   "execution_count": 8,
   "metadata": {},
   "outputs": [
    {
     "ename": "AttributeError",
     "evalue": "module 'scipy.misc' has no attribute 'imread'",
     "output_type": "error",
     "traceback": [
      "\u001b[1;31m---------------------------------------------------------------------------\u001b[0m",
      "\u001b[1;31mAttributeError\u001b[0m                            Traceback (most recent call last)",
      "\u001b[1;32m<ipython-input-8-7d9beca49bf4>\u001b[0m in \u001b[0;36m<module>\u001b[1;34m\u001b[0m\n\u001b[0;32m      3\u001b[0m \u001b[1;32mimport\u001b[0m \u001b[0mmatplotlib\u001b[0m\u001b[1;33m.\u001b[0m\u001b[0mpyplot\u001b[0m \u001b[1;32mas\u001b[0m \u001b[0mplt\u001b[0m\u001b[1;33m\u001b[0m\u001b[1;33m\u001b[0m\u001b[0m\n\u001b[0;32m      4\u001b[0m \u001b[1;32mfrom\u001b[0m \u001b[0mskimage\u001b[0m \u001b[1;32mimport\u001b[0m \u001b[0mdata\u001b[0m\u001b[1;33m\u001b[0m\u001b[1;33m\u001b[0m\u001b[0m\n\u001b[1;32m----> 5\u001b[1;33m \u001b[0mscipy\u001b[0m\u001b[1;33m.\u001b[0m\u001b[0mmisc\u001b[0m\u001b[1;33m.\u001b[0m\u001b[0mimread\u001b[0m\u001b[1;33m(\u001b[0m\u001b[1;33m)\u001b[0m\u001b[1;33m\u001b[0m\u001b[1;33m\u001b[0m\u001b[0m\n\u001b[0m\u001b[0;32m      6\u001b[0m \u001b[1;31m# photo_data = misc.imread(\"sd-3layers.jpg\")\u001b[0m\u001b[1;33m\u001b[0m\u001b[1;33m\u001b[0m\u001b[1;33m\u001b[0m\u001b[0m\n\u001b[0;32m      7\u001b[0m \u001b[1;31m# type(photo_data)\u001b[0m\u001b[1;33m\u001b[0m\u001b[1;33m\u001b[0m\u001b[1;33m\u001b[0m\u001b[0m\n",
      "\u001b[1;31mAttributeError\u001b[0m: module 'scipy.misc' has no attribute 'imread'"
     ]
    }
   ],
   "source": [
    "%matplotlib inline\n",
    "import scipy.misc\n",
    "import matplotlib.pyplot as plt\n",
    "from skimage import data\n",
    "scipy.misc.imread()\n",
    "# photo_data = misc.imread(\"sd-3layers.jpg\")\n",
    "# type(photo_data)"
   ]
  },
  {
   "cell_type": "code",
   "execution_count": null,
   "metadata": {},
   "outputs": [],
   "source": []
  }
 ],
 "metadata": {
  "kernelspec": {
   "display_name": "Python 3",
   "language": "python",
   "name": "python3"
  },
  "language_info": {
   "codemirror_mode": {
    "name": "ipython",
    "version": 3
   },
   "file_extension": ".py",
   "mimetype": "text/x-python",
   "name": "python",
   "nbconvert_exporter": "python",
   "pygments_lexer": "ipython3",
   "version": "3.8.2"
  }
 },
 "nbformat": 4,
 "nbformat_minor": 4
}
