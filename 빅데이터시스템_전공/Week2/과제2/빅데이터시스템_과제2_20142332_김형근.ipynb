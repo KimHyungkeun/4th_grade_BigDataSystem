{
 "cells": [
  {
   "cell_type": "code",
   "execution_count": 2,
   "metadata": {},
   "outputs": [
    {
     "name": "stdout",
     "output_type": "stream",
     "text": [
      "Green :\n",
      "[1 2 3 4]\n",
      "Blue :\n",
      "[[ 5  6  7  8  9]\n",
      " [10 11 12 13 14]]\n"
     ]
    }
   ],
   "source": [
    "import numpy as np\n",
    "np_array = np.array([[0,1,2,3,4], [5,6,7,8,9], [10,11,12,13,14], [15,16,17,18,19]])\n",
    "green = np_array[0, 1:5]\n",
    "blue = np_array[1:3]\n",
    "print(\"Green :\")\n",
    "print(green)\n",
    "print(\"Blue :\")\n",
    "print(blue)"
   ]
  },
  {
   "cell_type": "code",
   "execution_count": 4,
   "metadata": {},
   "outputs": [
    {
     "name": "stdout",
     "output_type": "stream",
     "text": [
      "[[ 0  1  2  3  4]\n",
      " [ 5  6  7  8  9]\n",
      " [10 11 12 13 14]\n",
      " [15 16 17 18 19]]\n",
      "\n",
      "Green : \n",
      " [1 2 3 4]\n",
      "\n",
      "Blue : \n",
      " [[ 5  6  7  8  9]\n",
      " [10 11 12 13 14]]\n"
     ]
    }
   ],
   "source": [
    "# 2020.10.13 추가\n",
    "np_array = np.arange(20).reshape(4,5)\n",
    "print(np_array)\n",
    "print()\n",
    "\n",
    "print(\"Green : \\n\", np_array[0,1:])\n",
    "print()\n",
    "print(\"Blue : \\n\", np_array[1:3, :])"
   ]
  },
  {
   "cell_type": "code",
   "execution_count": 5,
   "metadata": {},
   "outputs": [
    {
     "name": "stdout",
     "output_type": "stream",
     "text": [
      "slice_ex1 :\n",
      " [0 1 2 3 4]\n",
      "(5,)\n",
      "\n",
      "slice_ex2 :\n",
      " [[0 1 2 3 4]]\n",
      "(1, 5)\n",
      "\n"
     ]
    }
   ],
   "source": [
    "# 2020.10.13 추가\n",
    "slice_ex1 = np_array[0,:]\n",
    "print(\"slice_ex1 :\\n\", slice_ex1)\n",
    "print(slice_ex1.shape) #Vector로 표현\n",
    "print()\n",
    "\n",
    "slice_ex2 = np_array[0:1,:]\n",
    "print(\"slice_ex2 :\\n\", slice_ex2)\n",
    "print(slice_ex2.shape) #Matrix로 표현\n",
    "print()"
   ]
  },
  {
   "cell_type": "code",
   "execution_count": 68,
   "metadata": {},
   "outputs": [
    {
     "name": "stdout",
     "output_type": "stream",
     "text": [
      "Red :\n",
      "[[ 0  2  4]\n",
      " [15 17 19]]\n"
     ]
    }
   ],
   "source": [
    "import numpy as np\n",
    "np_array = np.array([[0,1,2,3,4], [5,6,7,8,9], [10,11,12,13,14], [15,16,17,18,19]])\n",
    "red = np_array[::3, ::2]\n",
    "print(\"Red :\")\n",
    "print(red)\n"
   ]
  },
  {
   "cell_type": "code",
   "execution_count": 7,
   "metadata": {},
   "outputs": [
    {
     "name": "stdout",
     "output_type": "stream",
     "text": [
      "[[ 0  1  2  3  4]\n",
      " [ 5  6  7  8  9]\n",
      " [10 11 12 13 14]\n",
      " [15 16 17 18 19]]\n",
      "Red :\n",
      " [[ 0  2  4]\n",
      " [15 17 19]]\n"
     ]
    }
   ],
   "source": [
    "# 2020.10.13 추가\n",
    "np_array = np.arange(20).reshape(4,5)\n",
    "print(np_array)\n",
    "print(\"Red :\\n\", np_array[::3, ::2])"
   ]
  },
  {
   "cell_type": "code",
   "execution_count": 9,
   "metadata": {},
   "outputs": [
    {
     "name": "stdout",
     "output_type": "stream",
     "text": [
      "filter :\n",
      "[[False  True]\n",
      " [False False]\n",
      " [False False]]\n"
     ]
    }
   ],
   "source": [
    "import numpy as np\n",
    "an_array = np.array ([[111,222], [333,444], [555,666]])\n",
    "filter =  (an_array >= 200) & (an_array <= 400) & (an_array % 2 == 0)\n",
    "\n",
    "print(\"filter :\")\n",
    "print(filter)"
   ]
  },
  {
   "cell_type": "code",
   "execution_count": 10,
   "metadata": {},
   "outputs": [
    {
     "data": {
      "text/plain": [
       "array([222])"
      ]
     },
     "execution_count": 10,
     "metadata": {},
     "output_type": "execute_result"
    }
   ],
   "source": [
    "# 2020.10.13 추가\n",
    "an_array[(an_array >= 200) & (an_array <= 400) & (an_array % 2 == 0)]"
   ]
  },
  {
   "cell_type": "code",
   "execution_count": 70,
   "metadata": {},
   "outputs": [
    {
     "name": "stdout",
     "output_type": "stream",
     "text": [
      "[[[ 99.91953792 100.06185809 100.12304218  99.90332255]\n",
      "  [100.01913068  99.75511631 100.02694647 100.15555608]\n",
      "  [100.12380945 100.13868342  99.82235418 100.16351591]]\n",
      "\n",
      " [[ 99.89901648  99.97810867 100.01179992  99.98060319]\n",
      "  [ 99.79321335 100.39480074  99.91906236 100.00177048]\n",
      "  [100.03266561  99.8970655   99.75130538  99.82315259]]]\n"
     ]
    }
   ],
   "source": [
    "import numpy as np\n",
    "arr = np.random.normal(100, .2, size=(2,3,4))\n",
    "print(arr)"
   ]
  },
  {
   "cell_type": "code",
   "execution_count": 11,
   "metadata": {},
   "outputs": [
    {
     "name": "stdout",
     "output_type": "stream",
     "text": [
      "[[0.63440308 0.49884551]\n",
      " [0.78088304 0.20412003]]\n"
     ]
    }
   ],
   "source": [
    "# 2020.10.13 추가, 0~1 사이의 random한 값을 가진 2ㅡ2 shape matrix 생성\n",
    "print(np.random.random((2,2)))"
   ]
  },
  {
   "cell_type": "code",
   "execution_count": 16,
   "metadata": {},
   "outputs": [
    {
     "name": "stdout",
     "output_type": "stream",
     "text": [
      "sum by row\n",
      "[[12 15 18 21]\n",
      " [48 51 54 57]]\n",
      "sum by column\n",
      "[[12 14 16 18]\n",
      " [20 22 24 26]\n",
      " [28 30 32 34]]\n"
     ]
    }
   ],
   "source": [
    "import numpy as np\n",
    "array = np.array( [ [ [0,1,2,3], [4,5,6,7], [8,9,10,11] ], [ [12,13,14,15],[16,17,18,19],[20,21,22,23] ] ])\n",
    "print(\"sum by row\")\n",
    "print(array.sum(axis=1))\n",
    "print(\"sum by column\")\n",
    "print(array.sum(axis=0))\n"
   ]
  },
  {
   "cell_type": "code",
   "execution_count": 18,
   "metadata": {},
   "outputs": [
    {
     "name": "stdout",
     "output_type": "stream",
     "text": [
      "[[[ 0  1  2  3]\n",
      "  [ 4  5  6  7]\n",
      "  [ 8  9 10 11]]\n",
      "\n",
      " [[12 13 14 15]\n",
      "  [16 17 18 19]\n",
      "  [20 21 22 23]]]\n",
      "\n",
      "sum by row \n",
      " [[12 15 18 21]\n",
      " [48 51 54 57]]\n",
      "(2, 4)\n",
      "\n",
      "sub by column \n",
      " [[ 6 22 38]\n",
      " [54 70 86]]\n",
      "(2, 3)\n",
      "\n"
     ]
    }
   ],
   "source": [
    "# 2020.10.13 추가\n",
    "np_array = np.arange(24).reshape(2,3,4)\n",
    "print(np_array)\n",
    "print()\n",
    "\n",
    "# row별로 sum을 하면 (2,4)이 됨\n",
    "sum_by_row = np_array.sum(axis=1)\n",
    "print('sum by row \\n', sum_by_row)\n",
    "print(sum_by_row.shape)\n",
    "print()\n",
    "\n",
    "# columm별로 sum을 하면 (2,3)이 됨\n",
    "column_by_row = np_array.sum(axis=2)\n",
    "print('sub by column \\n', column_by_row)\n",
    "print(column_by_row.shape)\n",
    "print()"
   ]
  },
  {
   "cell_type": "code",
   "execution_count": 21,
   "metadata": {},
   "outputs": [
    {
     "name": "stdout",
     "output_type": "stream",
     "text": [
      "[ True False  True]\n",
      "['apple' 'grape']\n",
      "['orange']\n",
      "['apple' 'banana' 'grape' 'orange']\n",
      "['apple' 'banana' 'grape' 'orange']\n",
      "[1 2 3 4 5 6]\n"
     ]
    }
   ],
   "source": [
    "import numpy as np\n",
    "array1 = np.array(['apple','banana','grape'])\n",
    "array2 = np.array(['apple','orange','grape'])\n",
    "array3 = np.array([1,1,2,2,3,3,4,4,5,5,6,6])\n",
    "print(np.in1d(array2, array1))\n",
    "print(np.intersect1d(array2, array1))\n",
    "print(np.setdiff1d(array2, array1))\n",
    "print(np.union1d(array2, array1))\n",
    "print(np.union1d(array2, array1))\n",
    "# print(np.intersect1d(array3, array3))\n",
    "print(np.unique(array3)) #2020.10.13 추가, 중복된 원소를 제거\n"
   ]
  },
  {
   "cell_type": "code",
   "execution_count": 22,
   "metadata": {},
   "outputs": [
    {
     "name": "stdout",
     "output_type": "stream",
     "text": [
      "['apple' 'grape']\n"
     ]
    }
   ],
   "source": [
    "# 2020.10.13 추가\n",
    "print(array1[np.in1d(array1, array2)])"
   ]
  },
  {
   "cell_type": "code",
   "execution_count": 23,
   "metadata": {},
   "outputs": [
    {
     "data": {
      "text/plain": [
       "[1, 2, 3, 4, 5, 6]"
      ]
     },
     "execution_count": 23,
     "metadata": {},
     "output_type": "execute_result"
    }
   ],
   "source": [
    "list(set(array3)) # set함수를 사용하여 unique한 원소를 얻게되는 효과를 얻게 됨"
   ]
  },
  {
   "cell_type": "code",
   "execution_count": null,
   "metadata": {},
   "outputs": [],
   "source": []
  }
 ],
 "metadata": {
  "kernelspec": {
   "display_name": "Python 3",
   "language": "python",
   "name": "python3"
  },
  "language_info": {
   "codemirror_mode": {
    "name": "ipython",
    "version": 3
   },
   "file_extension": ".py",
   "mimetype": "text/x-python",
   "name": "python",
   "nbconvert_exporter": "python",
   "pygments_lexer": "ipython3",
   "version": "3.8.2"
  }
 },
 "nbformat": 4,
 "nbformat_minor": 4
}
