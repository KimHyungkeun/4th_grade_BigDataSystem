{
 "cells": [
  {
   "cell_type": "code",
   "execution_count": 2,
   "metadata": {},
   "outputs": [],
   "source": [
    "sc = SparkContext.getOrCreate()"
   ]
  },
  {
   "cell_type": "code",
   "execution_count": 3,
   "metadata": {},
   "outputs": [
    {
     "name": "stdout",
     "output_type": "stream",
     "text": [
      "[(1, 2), (2, 4), (3, 6)]\n"
     ]
    }
   ],
   "source": [
    "x = sc.parallelize([1,2,3])\n",
    "y = x.map(lambda z : (z, z*2))\n",
    "print(y.collect())"
   ]
  },
  {
   "cell_type": "code",
   "execution_count": 4,
   "metadata": {},
   "outputs": [
    {
     "name": "stdout",
     "output_type": "stream",
     "text": [
      "[1, 2, 3, 4, 5]\n",
      "[2, 4]\n"
     ]
    }
   ],
   "source": [
    "x = sc.parallelize([1,2,3,4,5])\n",
    "y = x.filter(lambda z : z % 2 == 0)\n",
    "print(x.collect())\n",
    "print(y.collect())"
   ]
  },
  {
   "cell_type": "code",
   "execution_count": 5,
   "metadata": {},
   "outputs": [
    {
     "name": "stdout",
     "output_type": "stream",
     "text": [
      "[('is', 3), ('test', 3)]\n"
     ]
    }
   ],
   "source": [
    "text = \"this is test that is not test this test is easy\".split()\n",
    "\n",
    "x = sc.parallelize(text)\n",
    "map_x = x.map(lambda word : (word,1))\n",
    "reduce = map_x.reduceByKey(lambda i,j : i+j).filter(lambda z : z[1] >= 3).collect()\n",
    "print(reduce)"
   ]
  },
  {
   "cell_type": "code",
   "execution_count": 6,
   "metadata": {},
   "outputs": [
    {
     "name": "stdout",
     "output_type": "stream",
     "text": [
      "[('is', 3), ('test', 3)]\n"
     ]
    }
   ],
   "source": [
    "text = \"this is test that is not test this test is easy\".split()\n",
    "\n",
    "x = sc.parallelize(text)\n",
    "map_x = x.map(lambda word : (word,1))\n",
    "reduce = map_x.groupByKey().map(lambda x : (x[0], sum(x[1]))).filter(lambda z : z[1] >= 3).collect()\n",
    "print(reduce)"
   ]
  },
  {
   "cell_type": "code",
   "execution_count": 7,
   "metadata": {},
   "outputs": [
    {
     "data": {
      "text/plain": [
       "[('that', <pyspark.resultiterable.ResultIterable at 0x955340>),\n",
       " ('this', <pyspark.resultiterable.ResultIterable at 0x955c10>),\n",
       " ('is', <pyspark.resultiterable.ResultIterable at 0x9553e8>),\n",
       " ('test', <pyspark.resultiterable.ResultIterable at 0x955af0>),\n",
       " ('not', <pyspark.resultiterable.ResultIterable at 0x9553b8>),\n",
       " ('easy', <pyspark.resultiterable.ResultIterable at 0x955d90>)]"
      ]
     },
     "execution_count": 7,
     "metadata": {},
     "output_type": "execute_result"
    }
   ],
   "source": [
    "# 2020.10.13 추가\n",
    "map_x.groupByKey().collect()"
   ]
  },
  {
   "cell_type": "code",
   "execution_count": 8,
   "metadata": {},
   "outputs": [
    {
     "name": "stdout",
     "output_type": "stream",
     "text": [
      "[('that', [1]), ('this', [1, 1]), ('is', [1, 1, 1]), ('test', [1, 1, 1]), ('not', [1]), ('easy', [1])]\n"
     ]
    }
   ],
   "source": [
    "print(list((j[0], list(j[1])) for j in map_x.groupByKey().collect()))"
   ]
  },
  {
   "cell_type": "code",
   "execution_count": null,
   "metadata": {},
   "outputs": [],
   "source": []
  }
 ],
 "metadata": {
  "kernelspec": {
   "display_name": "Python 3",
   "language": "python",
   "name": "python3"
  },
  "language_info": {
   "codemirror_mode": {
    "name": "ipython",
    "version": 3
   },
   "file_extension": ".py",
   "mimetype": "text/x-python",
   "name": "python",
   "nbconvert_exporter": "python",
   "pygments_lexer": "ipython3",
   "version": "3.8.2"
  }
 },
 "nbformat": 4,
 "nbformat_minor": 4
}
